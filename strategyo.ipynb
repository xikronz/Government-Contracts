{
 "cells": [
  {
   "cell_type": "code",
   "execution_count": 3,
   "metadata": {},
   "outputs": [],
   "source": [
    "import numpy as np\n",
    "import pandas as pd\n",
    "import requests\n",
    "from datetime import datetime \n",
    "import matplotlib.pyplot as plt \n",
    "import math \n",
    "import uuid\n",
    "\n",
    "from utils.utils import setLinkEod, setLinkIntd, getBuyDay"
   ]
  },
  {
   "cell_type": "code",
   "execution_count": 6,
   "metadata": {},
   "outputs": [],
   "source": [
    "contracts17 = pd.read_csv(\"data/portfolioTesting/c16.csv\")\n",
    "contracts17['Start Date']= pd.to_datetime(contracts17['Start Date'])\n",
    "contracts17=contracts17.drop_duplicates(subset='Award ID').sort_values(by='Start Date')"
   ]
  },
  {
   "cell_type": "code",
   "execution_count": 17,
   "metadata": {},
   "outputs": [],
   "source": [
    "from dataclasses import dataclass \n",
    "import uuid\n",
    "\n",
    "\n",
    "# datastructure to track trades made on the same underlying via contractID \n",
    "@dataclass\n",
    "class transaction: \n",
    "    contractID: int\n",
    "    num: int\n",
    "\n",
    "# globally unique id generator \n",
    "class uniqueId:\n",
    "    def __init__(self):\n",
    "        self.id = str(uuid.uuid4())"
   ]
  },
  {
   "cell_type": "code",
   "execution_count": 16,
   "metadata": {},
   "outputs": [],
   "source": [
    "class BenchmarkPortfolio:\n",
    "    \"\"\" a benchmarked portfolio that mimicks all trades from the strategy using the SP500 \n",
    "        \n",
    "        id: a unique 6 digit number to keep track of the portfolio when multithreading\n",
    "        capital: current capital of the portfolio\n",
    "        buys: a list of trades made on the SP500 \n",
    "        valuation: tracks the value of the portfolio after each transaction \n",
    "        holds = flag to track if any pending assets need to be sold before next purcahse\n",
    "        bankrupt: well... if the portfolio has sufficient funds to continue\n",
    "    \"\"\"\n",
    "    def __init__(self, c):\n",
    "        self.id = uniqueId().id\n",
    "        self.capital = c\n",
    "        self.trades = []\n",
    "        self.valuation = [c]\n",
    "        self.holds = False\n",
    "        self.bankrupt = False\n",
    "        \n",
    "    def buy(self, pps, shares, id, buyDate):\n",
    "        if self.capital >= pps*shares: \n",
    "            if self.holds == False:\n",
    "                self.capital -= pps*shares\n",
    "                self.trades.append(transaction(id, shares))\n",
    "                self.valuation.append(self.capital)\n",
    "                self.holds = True \n",
    "                print(f\"B{shares}{'SPY'}{pps}D{buyDate}\")\n",
    "\n",
    "                return True \n",
    "            else: \n",
    "                print (\"there are pending market positions to be cleared\")\n",
    "                return False \n",
    "        else: \n",
    "            print(\"insufficient capital to complete transaction\")\n",
    "            self.bankrupt = True   \n",
    "            return False \n",
    "\n",
    "    def sell(self, pps, id, sellDate): \n",
    "        for transaction in reversed(self.trades):\n",
    "            if transaction.contractID == id: \n",
    "                self.capital += transaction.num * pps \n",
    "                self.valuation.append(self.capital)\n",
    "                print(f\"S{transaction.num}{'SPY'}{pps}D{sellDate}\")\n",
    "                break \n",
    "\n",
    "    def sellSuccessful(self):\n",
    "        self.holds = False\n"
   ]
  },
  {
   "cell_type": "code",
   "execution_count": 22,
   "metadata": {},
   "outputs": [],
   "source": [
    "class Portfolio(BenchmarkPortfolio) : \n",
    "    \"\"\" a simulated portfolio that automatcally purchases and sells \n",
    "        assets using the government contracts + MR strategy \n",
    "\n",
    "        trades: a dictionary of trades made under (K, V) = (Ticker, numShares)\n",
    "        mRThresh = mean reversion z-score treshold to sell\n",
    "        weight = percentage of total cap to allocate to each trade \n",
    "    \"\"\"\n",
    "    def __init__(self, t, r, w, c):\n",
    "        super.__init__(c)\n",
    "        self.trades = {}\n",
    "        self.mRThresh = t \n",
    "        self.weight = w\n",
    "\n",
    "    def logTrade(self, ticker, id, shares): \n",
    "        if ticker not in dict: \n",
    "            self.trades[ticker] = [transaction(id, shares)]\n",
    "        else: \n",
    "            self.trades[ticker].append(transaction(id, shares))\n",
    "                        \n",
    "    def buy(self, ticker, pps, shares, id, buyDate): \n",
    "        if self.capital >= pps*shares: \n",
    "            if self.holds == False: \n",
    "                self.capital -= pps*shares\n",
    "                self.logTrade(self, self.trades, ticker, id, shares)\n",
    "                self.buys.append([transaction(id, shares), buyDate])\n",
    "                self.holds = True\n",
    "                self.valueation.append(self.capital)\n",
    "                print(f\"B{shares}{ticker}{pps}D{buyDate}\")\n",
    "                return True\n",
    "            else: \n",
    "                print (\"there are pending market positions to be cleared\")\n",
    "                return False \n",
    "\n",
    "        else: \n",
    "            print(\"insufficient capital to complete transaction\")\n",
    "            self.bankrupt = True   \n",
    "            return False \n",
    "    \n",
    "    def sell(self, pps, iD, ticker, sellDate): \n",
    "        if ticker in self.trades: \n",
    "            for transaction in self.trades[ticker]: \n",
    "                if transaction.contractID == iD: \n",
    "                    shares = transaction.num \n",
    "                    self.capital += shares * pps\n",
    "                    self.trades[ticker].remove(transaction) \n",
    "                    print(f\"B{shares}{ticker}{pps}D{sellDate}\")"
   ]
  },
  {
   "cell_type": "code",
   "execution_count": 1,
   "metadata": {},
   "outputs": [],
   "source": [
    "exceptions = []"
   ]
  },
  {
   "cell_type": "code",
   "execution_count": 24,
   "metadata": {},
   "outputs": [
    {
     "data": {
      "text/plain": [
       "internal_id                                                            28086905\n",
       "Award ID                                                                   SD14\n",
       "Recipient Name                                                              NOC\n",
       "Award Amount                                                         42197144.0\n",
       "Total Outlays                                                               NaN\n",
       "Description                   IGF::OT::IGF  CY16 PERFORMANCE-BASED LOGISTICS...\n",
       "Contract Award Type                                              DELIVERY ORDER\n",
       "def_codes                                                                   NaN\n",
       "COVID-19 Obligations                                                        NaN\n",
       "COVID-19 Outlays                                                            NaN\n",
       "Infrastructure Obligations                                                  NaN\n",
       "Infrastructure Outlays                                                      NaN\n",
       "Awarding Agency                                           Department of Defense\n",
       "Awarding Sub Agency                                 Department of the Air Force\n",
       "Start Date                                                  2016-01-01 00:00:00\n",
       "End Date                                                             2016-12-31\n",
       "recipient_id                             a4e18d9e-ec75-2c26-9475-543f727fdbe7-C\n",
       "prime_award_recipient_id                                                    NaN\n",
       "awarding_agency_id                                                       1173.0\n",
       "agency_slug                                               department-of-defense\n",
       "generated_internal_id                     CONT_AWD_SD14_9700_FA861614D6060_9700\n",
       "Name: 425, dtype: object"
      ]
     },
     "execution_count": 24,
     "metadata": {},
     "output_type": "execute_result"
    }
   ],
   "source": [
    "contracts17.iloc[0]"
   ]
  },
  {
   "cell_type": "code",
   "execution_count": null,
   "metadata": {},
   "outputs": [],
   "source": [
    "def filterResponse(response, ticker, date):\n",
    "    if response.status_code == 200: \n",
    "        if len(response.json()) == 0: \n",
    "            response = requests.get(url=setLinkEod(ticker, date, date))\n",
    "            try: \n",
    "                pps = response.json()['historical']['close']\n",
    "                return pps\n",
    "            except Exception as e: \n",
    "                print (\"Unexpected exception: \" + str(e))\n",
    "                exceptions.append(f\"{str(e)} on buy order of {ticker} on {date} via contract number: {id}\")\n",
    "                return None\n",
    "        elif len(response.json>15): \n",
    "            pps = response.json()[-15][\"open\"]\n",
    "            return pps "
   ]
  },
  {
   "cell_type": "code",
   "execution_count": null,
   "metadata": {},
   "outputs": [],
   "source": [
    "def meanReversion(): \n",
    "    pass "
   ]
  },
  {
   "cell_type": "code",
   "execution_count": null,
   "metadata": {},
   "outputs": [],
   "source": [
    "def buyOrder(portfolio, benchPortfolio, w, ticker, date, id): \n",
    "    global exceptions \n",
    "    apiResponse = requests.get(url=setLinkIntd(ticker, date, date, \"5min\"))\n",
    "    spyResponse = requests.get(url=setLinkIntd(\"^SPX\", date, date, \"5min\"))\n",
    "    \n",
    "    pps = filterResponse(apiResponse, ticker, date)\n",
    "    ppsSPX = filterResponse(spyResponse, \"^SPX\", date)\n",
    "\n",
    "    if (pps!=None and ppsSPX!=None): \n",
    "        shares = math.floor((w*portfolio.capital)/pps)\n",
    "        sharesSPX = math.floor((w*benchPortfolio.capital)/ppsSPX)\n",
    "        portfolio.buy(ticker, pps, shares, id, date)\n",
    "        benchPortfolio.buy(ppsSPX, sharesSPX, id, date)\n",
    "        return True \n",
    "    else:\n",
    "        return False"
   ]
  },
  {
   "cell_type": "code",
   "execution_count": null,
   "metadata": {},
   "outputs": [],
   "source": [
    "def sellOrder(portfolio, benchPortfolio, w, ticker, date, id):\n",
    "    "
   ]
  }
 ],
 "metadata": {
  "kernelspec": {
   "display_name": "quant",
   "language": "python",
   "name": "python3"
  },
  "language_info": {
   "codemirror_mode": {
    "name": "ipython",
    "version": 3
   },
   "file_extension": ".py",
   "mimetype": "text/x-python",
   "name": "python",
   "nbconvert_exporter": "python",
   "pygments_lexer": "ipython3",
   "version": "3.13.0"
  }
 },
 "nbformat": 4,
 "nbformat_minor": 2
}
