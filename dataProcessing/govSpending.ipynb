{
 "cells": [
  {
   "cell_type": "code",
   "execution_count": 2,
   "metadata": {},
   "outputs": [],
   "source": [
    "import yfinance as yf\n",
    "import numpy as np \n",
    "import pandas as pd\n",
    "import requests\n",
    "import json\n",
    "import copy"
   ]
  },
  {
   "cell_type": "code",
   "execution_count": 3,
   "metadata": {},
   "outputs": [
    {
     "ename": "NameError",
     "evalue": "name 'Path' is not defined",
     "output_type": "error",
     "traceback": [
      "\u001b[0;31m---------------------------------------------------------------------------\u001b[0m",
      "\u001b[0;31mNameError\u001b[0m                                 Traceback (most recent call last)",
      "Cell \u001b[0;32mIn[3], line 2\u001b[0m\n\u001b[1;32m      1\u001b[0m \u001b[38;5;28;01mimport\u001b[39;00m \u001b[38;5;21;01mos\u001b[39;00m\n\u001b[0;32m----> 2\u001b[0m os\u001b[38;5;241m.\u001b[39mchdir(\u001b[43mPath\u001b[49m(os\u001b[38;5;241m.\u001b[39mgetcwd())\u001b[38;5;241m.\u001b[39mparent)\n\u001b[1;32m      4\u001b[0m \u001b[38;5;28;01mfrom\u001b[39;00m \u001b[38;5;21;01mutils\u001b[39;00m\u001b[38;5;21;01m.\u001b[39;00m\u001b[38;5;21;01mutils\u001b[39;00m \u001b[38;5;28;01mimport\u001b[39;00m setPayload\n",
      "\u001b[0;31mNameError\u001b[0m: name 'Path' is not defined"
     ]
    }
   ],
   "source": [
    "import os\n",
    "os.chdir(Path(os.getcwd()).parent)\n",
    "\n",
    "from utils.utils import setPayload"
   ]
  },
  {
   "cell_type": "code",
   "execution_count": null,
   "metadata": {},
   "outputs": [],
   "source": []
  },
  {
   "cell_type": "code",
   "execution_count": 3,
   "metadata": {},
   "outputs": [],
   "source": [
    "api_url =\"https://api.usaspending.gov/api/v2/search/spending_by_award\"\n",
    "headers = {\n",
    "    'Content-Type': 'application/json'\n",
    "}"
   ]
  },
  {
   "cell_type": "code",
   "execution_count": 16,
   "metadata": {},
   "outputs": [],
   "source": [
    "def setPayload(page):\n",
    "    payload = {\n",
    "    \"subawards\": False,\n",
    "    \"limit\": 100,\n",
    "    \"page\": page, \n",
    "    \"filters\": {\n",
    "        \"time_period\": [\n",
    "            {\"start_date\": \"2007-10-01\", \"end_date\": \"2008-09-30\"},\n",
    "            {\"start_date\": \"2008-10-01\", \"end_date\": \"2009-09-30\"},\n",
    "            {\"start_date\": \"2009-10-01\", \"end_date\": \"2010-09-30\"},\n",
    "            {\"start_date\": \"2010-10-01\", \"end_date\": \"2011-09-30\"},\n",
    "            {\"start_date\": \"2011-10-01\", \"end_date\": \"2012-09-30\"},\n",
    "            {\"start_date\": \"2012-10-01\", \"end_date\": \"2013-09-30\"},\n",
    "            {\"start_date\": \"2013-10-01\", \"end_date\": \"2014-09-30\"},\n",
    "            {\"start_date\": \"2014-10-01\", \"end_date\": \"2015-09-30\"},\n",
    "            {\"start_date\": \"2015-10-01\", \"end_date\": \"2016-09-30\"},\n",
    "            {\"start_date\": \"2016-10-01\", \"end_date\": \"2017-09-30\"},\n",
    "            {\"start_date\": \"2017-10-01\", \"end_date\": \"2018-09-30\"},\n",
    "            {\"start_date\": \"2018-10-01\", \"end_date\": \"2019-09-30\"},\n",
    "            {\"start_date\": \"2019-10-01\", \"end_date\": \"2020-09-30\"},\n",
    "            {\"start_date\": \"2020-10-01\", \"end_date\": \"2021-09-30\"},\n",
    "            {\"start_date\": \"2021-10-01\", \"end_date\": \"2022-09-30\"},\n",
    "            {\"start_date\": \"2022-10-01\", \"end_date\": \"2023-09-30\"},\n",
    "            {\"start_date\": \"2023-10-01\", \"end_date\": \"2024-09-30\"}, \n",
    "            {\"start_date\": \"2024-10-01\", \"end_date\": \"2025-09-30\"}\n",
    "        ],\n",
    "        \"award_amounts\": [{\"lower_bound\":\"25000000\"}],\n",
    "        \"award_type_codes\": [\"A\", \"B\", \"C\", \"D\"],\n",
    "        \"naics_codes\": [\n",
    "            \"11\", \"21\", \"22\", \"23\", \"31\", \"32\", \"33\", \"4233\", \"4235\", \"4238\", \"4246\", \"4247\",\n",
    "            \"5111\", \"5112\", \"5121\", \"5122\", \"5151\", \"5152\", \"5161\", \"5171\", \"5172\", \"5173\", \"5174\",\n",
    "            \"5175\", \"5179\", \"5181\", \"5182\", \"5191\", \"52\", \"54\"\n",
    "        ],\n",
    "        \"recipient_type_names\": [\n",
    "            \"business\", \"corporate_entity_not_tax_exempt\", \"other_than_small_business\",\n",
    "            \"subchapter_s_corporation\", \"partnership_or_limited_liability_partnership\", \n",
    "            \"limited_liability_corporation\", \"sole_proprietorship\", \"corporate_entity_tax_exempt\", \n",
    "            \"manufacturer_of_goods\"\n",
    "        ]\n",
    "    },\n",
    "    \"fields\": [\n",
    "        \"Award ID\", \"Recipient Name\", \"Award Amount\", \"Total Outlays\", \"Description\", \n",
    "        \"Contract Award Type\", \"def_codes\", \"COVID-19 Obligations\", \"COVID-19 Outlays\", \n",
    "        \"Infrastructure Obligations\", \"Infrastructure Outlays\", \"Awarding Agency\", \n",
    "        \"Awarding Sub Agency\", \"Start Date\", \"End Date\", \"recipient_id\", \"prime_award_recipient_id\"\n",
    "    ],\n",
    "    \"order\": \"desc\",\n",
    "    \"sort\": \"Award Amount\"\n",
    "    }\n",
    "    return payload"
   ]
  },
  {
   "cell_type": "code",
   "execution_count": null,
   "metadata": {},
   "outputs": [],
   "source": [
    "df_contracts = {}\n",
    "\n",
    "for i in range(100):\n",
    "    file = f'contracts_data.csv'\n",
    "\n",
    "    first_page = True\n",
    "    j =380\n",
    "    while True:\n",
    "        payload = setPayload(j)  # Generate payload for current page\n",
    "        response = requests.post(api_url, headers=headers, json=payload)\n",
    "        print(f\"Fetching page {j}...\")\n",
    "\n",
    "        if response.status_code == 200:\n",
    "            results = response.json().get('results', [])\n",
    "            if not results:  # Stop if no results\n",
    "                print(f\"No more data on page {j}. Stopping.\")\n",
    "                break\n",
    "\n",
    "            # Convert to DataFrame and save\n",
    "            df = pd.DataFrame(results, columns=payload[\"fields\"])\n",
    "            df.to_csv(file, index=False, mode='a', header=(j == 1))  \n",
    "            j += 1  # Increment page\n",
    "\n",
    "        else:\n",
    "            print(f\"Error: {response.status_code}, {response.text}\")\n",
    "            break\n"
   ]
  },
  {
   "cell_type": "code",
   "execution_count": null,
   "metadata": {},
   "outputs": [],
   "source": [
    "tickers_url = \"https://api.datajockey.io/v0/tickers\"\n",
    "query = {\n",
    "    \"apikey\": \"941a7b86a31338a1b6ccfd321d9d5bbf11abf594fba78ad2fab3\"\n",
    "}\n",
    "\n",
    "response = requests.get(tickers_url, params=query)\n",
    "if response.status_code == 200: \n",
    "    data = response.json()\n",
    "    file = \"data/tickers_data.csv\"\n",
    "    df = pd.DataFrame(data)\n",
    "    df.to_csv(file, index=False)"
   ]
  },
  {
   "cell_type": "code",
   "execution_count": null,
   "metadata": {},
   "outputs": [],
   "source": [
    "df = pd.read_csv(\"data/tickers_data.csv\")\n",
    "df[\"cik_s\"] = df[\"cik\"].apply(lambda x: str(x).zfill(10))\n",
    "df = pd.DataFrame(df)\n",
    "df.to_csv(\"data/tickers_data.csv\", index=False)"
   ]
  }
 ],
 "metadata": {
  "kernelspec": {
   "display_name": "quant",
   "language": "python",
   "name": "python3"
  },
  "language_info": {
   "codemirror_mode": {
    "name": "ipython",
    "version": 3
   },
   "file_extension": ".py",
   "mimetype": "text/x-python",
   "name": "python",
   "nbconvert_exporter": "python",
   "pygments_lexer": "ipython3",
   "version": "3.13.0"
  }
 },
 "nbformat": 4,
 "nbformat_minor": 2
}
