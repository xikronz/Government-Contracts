{
 "cells": [
  {
   "cell_type": "code",
   "execution_count": 11,
   "metadata": {},
   "outputs": [],
   "source": [
    "import numpy as np \n",
    "import pandas as pd\n",
    "import requests\n",
    "from datetime import datetime\n",
    "import matplotlib.pyplot as plt\n",
    "import math\n",
    "import time"
   ]
  },
  {
   "cell_type": "code",
   "execution_count": 12,
   "metadata": {},
   "outputs": [],
   "source": [
    "from utils.utils import setLinkEod, setLinkIntd"
   ]
  },
  {
   "cell_type": "code",
   "execution_count": 13,
   "metadata": {},
   "outputs": [],
   "source": [
    "contracts17 = pd.read_csv(\"data/portfolioTesting/c16.csv\")\n",
    "contracts17['Start Date']= pd.to_datetime(contracts17['Start Date'])\n",
    "contracts17=contracts17.drop_duplicates(subset='Award ID').sort_values(by='Start Date')"
   ]
  },
  {
   "cell_type": "code",
   "execution_count": 14,
   "metadata": {},
   "outputs": [],
   "source": [
    "response = requests.get(url=setLinkIntd(\"LMT\", \"2010-03-31\", \"2010-03-31\", \"5min\"))\n",
    "response1 = requests.get(url=setLinkEod(\"RTX\", \"2001-01-01\", \"2001-01-02\"))"
   ]
  },
  {
   "cell_type": "code",
   "execution_count": 15,
   "metadata": {},
   "outputs": [
    {
     "name": "stdout",
     "output_type": "stream",
     "text": [
      "0    22.19\n",
      "dtype: float64\n"
     ]
    }
   ],
   "source": [
    "response1.json()['historical']\n",
    "prices = pd.Series([entry['close'] for entry in response1.json()['historical']])        \n",
    "print(prices)"
   ]
  },
  {
   "cell_type": "code",
   "execution_count": 16,
   "metadata": {},
   "outputs": [],
   "source": [
    "from dataclasses import dataclass\n",
    "\n",
    "@dataclass\n",
    "class transaction:\n",
    "    contractID: int\n",
    "    num: int\n"
   ]
  },
  {
   "cell_type": "code",
   "execution_count": 17,
   "metadata": {},
   "outputs": [],
   "source": [
    "class Portfolio: \n",
    "    def __init__(self, thresh, startingConst, start=1000000000):\n",
    "        self.id = distinctId.genId()  \n",
    "        self.capital = start\n",
    "        self.trades = {}\n",
    "        self.sells = []\n",
    "        self.buys = []\n",
    "        self.mRThresh = thresh\n",
    "        self.buySig = startingConst\n",
    "\n",
    "    def logTrade(self, ticker, iD, shares): \n",
    "        if ticker not in self.trades:\n",
    "            self.trades[ticker] = [transaction(iD, shares)]\n",
    "        else: \n",
    "            self.trades[ticker].append(transaction(iD, shares)) \n",
    "\n",
    "    def buy(self, pps, ticker, shares, iD, buyDate):\n",
    "        if self.capital >= pps * shares:  \n",
    "            self.capital -= pps * shares\n",
    "            self.logTrade(ticker, iD, shares)\n",
    "            self.buys.append(f\"B{shares}{ticker}{pps}D{buyDate}\")\n",
    "            print(f\"B{shares}{ticker}{pps}D{buyDate}\")\n",
    "        else:\n",
    "            print(\"Insufficient capital to buy shares!\")\n",
    "\n",
    "    def sell(self, pps, iD, ticker, sellDate):\n",
    "        if ticker in self.trades:\n",
    "            for t in self.trades[ticker]:\n",
    "                if t.contractID == iD: \n",
    "                    shares = t.num\n",
    "                    self.capital += shares * pps\n",
    "                    self.sells.append(f\"S{shares}{ticker}{pps}D{sellDate}\")\n",
    "                    print(f\"S{shares}{ticker}{pps}D{sellDate}\")\n",
    "                    self.trades[ticker].remove(t) \n",
    "                    break  "
   ]
  },
  {
   "cell_type": "code",
   "execution_count": 26,
   "metadata": {},
   "outputs": [],
   "source": [
    "from pandas.tseries.holiday import USFederalHolidayCalendar\n",
    "from pandas.tseries.offsets import CustomBusinessDay\n",
    "\n",
    "def getBuyDay(contractDate, prev=3):\n",
    "    uBday = CustomBusinessDay(calendar=USFederalHolidayCalendar())\n",
    "    contractDate = pd.Timestamp(contractDate)\n",
    "    buyDay = contractDate - prev * uBday\n",
    "    return buyDay.strftime('%Y-%m-%d')\n"
   ]
  },
  {
   "cell_type": "code",
   "execution_count": 19,
   "metadata": {},
   "outputs": [],
   "source": [
    "def meanReversion(prices, threshold, window=20):\n",
    "    if len(prices) < window:\n",
    "        print(f\"Warning: Not enough data points for rolling window (got {len(prices)}, expected {window})\")\n",
    "        return False  \n",
    "\n",
    "    sma = prices.rolling(window=window).mean()\n",
    "    std_dev = prices.rolling(window=window).std()\n",
    "\n",
    "    z_score = (prices - sma) / std_dev\n",
    "\n",
    "    if len(z_score) > 0:\n",
    "        if z_score.iloc[-1] > threshold:\n",
    "            return True  \n",
    "        elif z_score.iloc[-1] < -threshold:\n",
    "            return True\n",
    "    else:\n",
    "        print(\"Error: 'z_score' is empty or invalid.\")\n",
    "    \n",
    "    return False  "
   ]
  },
  {
   "cell_type": "code",
   "execution_count": 20,
   "metadata": {},
   "outputs": [],
   "source": [
    "def getSellDay(contractDate, ticker, portfolio): \n",
    "    us_business_day = CustomBusinessDay(calendar=USFederalHolidayCalendar())\n",
    "\n",
    "    contractDate = pd.Timestamp(contractDate)\n",
    "    adjDate = contractDate if us_business_day.is_on_offset(contractDate) else contractDate + us_business_day\n",
    "    adjDate += 1 * us_business_day  \n",
    "\n",
    "    startDay = adjDate - pd.Timedelta(days=30)\n",
    "    endDay = adjDate \n",
    "\n",
    "    response = requests.get(setLinkIntd(ticker, startDay.strftime('%Y-%m-%d'), endDay.strftime(('%Y-%m-%d')), \"5min\"))\n",
    "\n",
    "    if response.status_code == 200:\n",
    "        data = response.json()\n",
    "        if len(data)==0: \n",
    "            try:\n",
    "                response = requests.get(setLinkEod(ticker, startDay.strftime('%Y-%m-%d'), endDay.strftime(('%Y-%m-%d'))))\n",
    "                data = response.json()['historical']\n",
    "            except Exception as e: \n",
    "                print(\"Unexpected exception: \"+ str(e))\n",
    "                return None\n",
    "        if len(data)!= 0:\n",
    "            prices = pd.Series([entry['close'] for entry in data])        \n",
    "\n",
    "            if meanReversion(prices, portfolio.mRThresh):\n",
    "                return adjDate.strftime('%Y-%m-%d')  \n",
    "            else:\n",
    "                next_day = adjDate + us_business_day\n",
    "                return getSellDay(next_day.strftime('%Y-%m-%d'), ticker, portfolio)  \n",
    "        else: \n",
    "            return"
   ]
  },
  {
   "cell_type": "code",
   "execution_count": 21,
   "metadata": {},
   "outputs": [],
   "source": [
    "import time \n",
    "def buy(ticker, pP, buyDate, id, portfolio): \n",
    "    response = requests.get(url=setLinkIntd(ticker, buyDate, buyDate, \"5min\"))\n",
    "    for i in range (2): \n",
    "        if response.status_code == 200: \n",
    "            if len(response.json()) == 0: \n",
    "                response = requests.get(url=setLinkEod(ticker, buyDate, buyDate))\n",
    "                try: \n",
    "                    pps = response.json()['historical'][0]['close']  \n",
    "                except Exception as e: \n",
    "                    print(\"Response length \" + str(len(response.json())) + \" with unexpected exception: \" + str(e))  \n",
    "                    return False\n",
    "            if len(response.json())>15:\n",
    "                pps = response.json()[-15][\"open\"]\n",
    "\n",
    "    if response.status_code == 200: \n",
    "        if len(response.json()) == 0: \n",
    "            response = requests.get(url=setLinkEod(ticker, buyDate, buyDate))\n",
    "            try: \n",
    "                pps = response.json()['historical']['close']\n",
    "            except Exception as e: \n",
    "                print(\"Unexpected exception: \"+ str(e))\n",
    "                return False\n",
    "        if len(response.json())>15:\n",
    "            pps = response.json()[-15][\"open\"]\n",
    "\n",
    "        if (pps!=None): \n",
    "            shares = math.floor(valuation/pps)\n",
    "            if ticker not in portfolio: \n",
    "                portfolio[ticker]= [transaction(contractID=id, num=shares)] \n",
    "            else: \n",
    "                portfolio[ticker].append(transaction(contractID=id, num=shares))\n",
    "            capital-=shares*pps \n",
    "            print(\"purchased \"+ str(shares) + \" shares of \"+ticker+\" at \"+ str(pps)+\" on \"+buyDate+\". current portfolio valued at \"+ str(capital))\n",
    "            return True \n",
    "        else: \n",
    "            return False\n",
    "    return False "
   ]
  },
  {
   "cell_type": "code",
   "execution_count": 22,
   "metadata": {},
   "outputs": [],
   "source": [
    "def sell(ticker, sellDate, id, portfolio):\n",
    "    response = requests.get(url=setLinkIntd(ticker, sellDate, sellDate, \"5min\"))\n",
    "    if response.status_code == 200 and len(response.json()) >15: \n",
    "        pps = response.json()[-15][\"open\"]\n",
    "        portfolio.sell(pps, id, ticker, sellDate)\n"
   ]
  },
  {
   "cell_type": "code",
   "execution_count": 23,
   "metadata": {},
   "outputs": [],
   "source": [
    "def runPortfolio(contracts, mRSig, prev): \n",
    "    global allValueation, allBuys, allSells \n",
    "    portfolio = Portfolio(mRSig, prev)\n",
    "    for i in range (len(contracts)):\n",
    "        tick = contracts.iloc[i]['Recipient Name']\n",
    "        contractStart = contracts.iloc[i]['Start Date']\n",
    "        id = contracts.iloc[i]['internal_id']\n",
    "        bDay = getBuyDay(contractStart, portfolio.buySig)\n",
    "        if (buy(tick, portfolio.capital*0.10, bDay, id, portfolio)):\n",
    "            sell(tick, getSellDay(contractStart, tick, portfolio), id, portfolio)\n",
    "        else:\n",
    "            continue\n",
    "    return portfolio"
   ]
  },
  {
   "cell_type": "code",
   "execution_count": 27,
   "metadata": {},
   "outputs": [
    {
     "ename": "TypeError",
     "evalue": "buy() missing 1 required positional argument: 'portfolio'",
     "output_type": "error",
     "traceback": [
      "\u001b[0;31m---------------------------------------------------------------------------\u001b[0m",
      "\u001b[0;31mTypeError\u001b[0m                                 Traceback (most recent call last)",
      "Cell \u001b[0;32mIn[27], line 4\u001b[0m\n\u001b[1;32m      2\u001b[0m capital \u001b[38;5;241m=\u001b[39m \u001b[38;5;241m100000000\u001b[39m\n\u001b[1;32m      3\u001b[0m \u001b[38;5;28;01mfor\u001b[39;00m i \u001b[38;5;129;01min\u001b[39;00m \u001b[38;5;28mrange\u001b[39m(\u001b[38;5;28mlen\u001b[39m(contracts17)): \n\u001b[0;32m----> 4\u001b[0m     \u001b[38;5;28;01mif\u001b[39;00m (\u001b[43mbuy\u001b[49m\u001b[43m(\u001b[49m\u001b[43mcontracts17\u001b[49m\u001b[38;5;241;43m.\u001b[39;49m\u001b[43miloc\u001b[49m\u001b[43m[\u001b[49m\u001b[43mi\u001b[49m\u001b[43m]\u001b[49m\u001b[43m[\u001b[49m\u001b[38;5;124;43m'\u001b[39;49m\u001b[38;5;124;43mRecipient Name\u001b[39;49m\u001b[38;5;124;43m'\u001b[39;49m\u001b[43m]\u001b[49m\u001b[43m,\u001b[49m\u001b[43m \u001b[49m\u001b[43mcapital\u001b[49m\u001b[38;5;241;43m*\u001b[39;49m\u001b[38;5;241;43m0.15\u001b[39;49m\u001b[43m,\u001b[49m\u001b[43m \u001b[49m\u001b[43mgetBuyDay\u001b[49m\u001b[43m(\u001b[49m\u001b[43mcontracts17\u001b[49m\u001b[38;5;241;43m.\u001b[39;49m\u001b[43miloc\u001b[49m\u001b[43m[\u001b[49m\u001b[43mi\u001b[49m\u001b[43m]\u001b[49m\u001b[43m[\u001b[49m\u001b[38;5;124;43m'\u001b[39;49m\u001b[38;5;124;43mStart Date\u001b[39;49m\u001b[38;5;124;43m'\u001b[39;49m\u001b[43m]\u001b[49m\u001b[43m)\u001b[49m\u001b[43m,\u001b[49m\u001b[43m \u001b[49m\u001b[43mcontracts17\u001b[49m\u001b[38;5;241;43m.\u001b[39;49m\u001b[43miloc\u001b[49m\u001b[43m[\u001b[49m\u001b[43mi\u001b[49m\u001b[43m]\u001b[49m\u001b[43m[\u001b[49m\u001b[38;5;124;43m'\u001b[39;49m\u001b[38;5;124;43minternal_id\u001b[39;49m\u001b[38;5;124;43m'\u001b[39;49m\u001b[43m]\u001b[49m\u001b[43m)\u001b[49m):\n\u001b[1;32m      5\u001b[0m         sell(contracts17\u001b[38;5;241m.\u001b[39miloc[i][\u001b[38;5;124m'\u001b[39m\u001b[38;5;124mRecipient Name\u001b[39m\u001b[38;5;124m'\u001b[39m], getSellDay(contracts17\u001b[38;5;241m.\u001b[39miloc[i][\u001b[38;5;124m'\u001b[39m\u001b[38;5;124mStart Date\u001b[39m\u001b[38;5;124m'\u001b[39m], ticker\u001b[38;5;241m=\u001b[39mcontracts17\u001b[38;5;241m.\u001b[39miloc[i][\u001b[38;5;124m'\u001b[39m\u001b[38;5;124mRecipient Name\u001b[39m\u001b[38;5;124m'\u001b[39m]), contracts17\u001b[38;5;241m.\u001b[39miloc[i][\u001b[38;5;124m'\u001b[39m\u001b[38;5;124minternal_id\u001b[39m\u001b[38;5;124m'\u001b[39m])\n\u001b[1;32m      6\u001b[0m     \u001b[38;5;28;01melse\u001b[39;00m:\n",
      "\u001b[0;31mTypeError\u001b[0m: buy() missing 1 required positional argument: 'portfolio'"
     ]
    }
   ],
   "source": [
    "global capital\n",
    "capital = 100000000\n",
    "for i in range(len(contracts17)): \n",
    "    if (buy(contracts17.iloc[i]['Recipient Name'], capital*0.15, getBuyDay(contracts17.iloc[i]['Start Date']), contracts17.iloc[i]['internal_id'])):\n",
    "        sell(contracts17.iloc[i]['Recipient Name'], getSellDay(contracts17.iloc[i]['Start Date'], ticker=contracts17.iloc[i]['Recipient Name']), contracts17.iloc[i]['internal_id'])\n",
    "    else:\n",
    "        continue"
   ]
  },
  {
   "cell_type": "code",
   "execution_count": null,
   "metadata": {},
   "outputs": [
    {
     "ename": "NameError",
     "evalue": "name 'valuation' is not defined",
     "output_type": "error",
     "traceback": [
      "\u001b[0;31m---------------------------------------------------------------------------\u001b[0m",
      "\u001b[0;31mNameError\u001b[0m                                 Traceback (most recent call last)",
      "Cell \u001b[0;32mIn[1], line 1\u001b[0m\n\u001b[0;32m----> 1\u001b[0m \u001b[38;5;28mprint\u001b[39m(\u001b[43mvaluation\u001b[49m)\n",
      "\u001b[0;31mNameError\u001b[0m: name 'valuation' is not defined"
     ]
    }
   ],
   "source": [
    "print(valuation)"
   ]
  }
 ],
 "metadata": {
  "kernelspec": {
   "display_name": "quant",
   "language": "python",
   "name": "python3"
  },
  "language_info": {
   "codemirror_mode": {
    "name": "ipython",
    "version": 3
   },
   "file_extension": ".py",
   "mimetype": "text/x-python",
   "name": "python",
   "nbconvert_exporter": "python",
   "pygments_lexer": "ipython3",
   "version": "3.13.0"
  }
 },
 "nbformat": 4,
 "nbformat_minor": 2
}
