{
 "cells": [
  {
   "cell_type": "code",
   "execution_count": 3,
   "metadata": {},
   "outputs": [],
   "source": [
    "import pandas as pd\n",
    "import seaborn as sns\n",
    "import matplotlib.pyplot as plt\n",
    "import concurrent.futures"
   ]
  },
  {
   "cell_type": "code",
   "execution_count": 19,
   "metadata": {},
   "outputs": [],
   "source": [
    "with open('R2 returns/pv/2023.txt', 'r') as file:\n",
    "    lines = file.readlines()\n",
    "\n",
    "portfolioValues = []\n",
    "for line in lines:\n",
    "    value = float(line.strip().split('--')[1])\n",
    "    portfolioValues.append(value)\n",
    "\n",
    "df = pd.DataFrame(portfolioValues)\n",
    "\n",
    "df.to_csv(\"R2 returns/trades/2023.csv\", index=False)"
   ]
  },
  {
   "cell_type": "code",
   "execution_count": 5,
   "metadata": {},
   "outputs": [
    {
     "name": "stdout",
     "output_type": "stream",
     "text": [
      "Saved plot: R2 returns/graphs/2016.png\n",
      "2016 Final Return: 1.8345\n",
      "2016 Maximum Drawdown: -3.3127%\n",
      "2016 Annualized Sharpe Ratio: 9.0434\n",
      "Saved plot: R2 returns/graphs/2017.png\n",
      "2017 Final Return: 1.4571\n",
      "2017 Maximum Drawdown: -1.4938%\n",
      "2017 Annualized Sharpe Ratio: 9.3625\n",
      "Saved plot: R2 returns/graphs/2018.png\n",
      "2018 Final Return: 0.9475\n",
      "2018 Maximum Drawdown: -20.4106%\n",
      "2018 Annualized Sharpe Ratio: -0.6712\n",
      "Saved plot: R2 returns/graphs/2019.png\n",
      "2019 Final Return: 1.9224\n",
      "2019 Maximum Drawdown: -9.6915%\n",
      "2019 Annualized Sharpe Ratio: 3.1158\n",
      "Saved plot: R2 returns/graphs/2023.png\n",
      "2023 Final Return: 4.1436\n",
      "2023 Maximum Drawdown: -11.5649%\n",
      "2023 Annualized Sharpe Ratio: 3.8702\n"
     ]
    }
   ],
   "source": [
    "import pandas as pd\n",
    "import seaborn as sns\n",
    "import matplotlib.pyplot as plt\n",
    "\n",
    "filePaths = [\n",
    "    \"R2 returns/trades/2016.csv\",\n",
    "    \"R2 returns/trades/2017.csv\",\n",
    "    \"R2 returns/trades/2018.csv\",\n",
    "    \"R2 returns/trades/2019.csv\",\n",
    "    \"R2 returns/trades/2023.csv\"\n",
    "]\n",
    "\n",
    "def plotPortfolio(fp):\n",
    "    date = fp[18:22]\n",
    "    df = pd.read_csv(fp, header=None, names=[\"Portfolio Value\"])\n",
    "    \n",
    "    df[\"Trade Count\"] = range(1, len(df) + 1)\n",
    "    df_even = df[df[\"Trade Count\"] % 2 == 0]\n",
    "\n",
    "    # Calculate final returns\n",
    "    fReturn = df_even[\"Portfolio Value\"].iloc[-1] / df_even[\"Portfolio Value\"].iloc[0]\n",
    "\n",
    "    # Calculate maximum drawdown\n",
    "    cReturns = df_even[\"Portfolio Value\"].cummax()\n",
    "    drawdowns = (df_even[\"Portfolio Value\"] - cReturns) / cReturns\n",
    "    mDrawdown = drawdowns.min()\n",
    "\n",
    "    # Calculate annualized Sharpe ratio\n",
    "    daily_returns = df_even[\"Portfolio Value\"].pct_change().dropna()\n",
    "    sRatio = (daily_returns.mean() / daily_returns.std()) * (252**0.5)\n",
    "\n",
    "    plt.figure(figsize=(10, 5))\n",
    "    sns.set_style(\"whitegrid\")\n",
    "    sns.lineplot(x=df_even[\"Trade Count\"], y=df_even[\"Portfolio Value\"], linestyle=\"-\", color=\"b\")\n",
    "    \n",
    "    plt.xlabel(\"Number of Trades\")\n",
    "    plt.ylabel(\"Capital\")\n",
    "    plt.title(f\"GCP Performance Over {len(df_even)} Buy Trades in \\n{date}\")\n",
    "\n",
    "    file = f\"R2 returns/graphs/{date}.png\"\n",
    "    plt.savefig(file)\n",
    "    print(f\"Saved plot: {file}\")\n",
    "    plt.close()  \n",
    "\n",
    "    print(f\"{date} Final Return: {fReturn:.4f}\")\n",
    "    print(f\"{date} Maximum Drawdown: {mDrawdown:.4%}\")\n",
    "    print(f\"{date} Annualized Sharpe Ratio: {sRatio:.4f}\")\n",
    "\n",
    "for fp in filePaths:\n",
    "    plotPortfolio(fp)\n"
   ]
  }
 ],
 "metadata": {
  "kernelspec": {
   "display_name": "quant",
   "language": "python",
   "name": "python3"
  },
  "language_info": {
   "codemirror_mode": {
    "name": "ipython",
    "version": 3
   },
   "file_extension": ".py",
   "mimetype": "text/x-python",
   "name": "python",
   "nbconvert_exporter": "python",
   "pygments_lexer": "ipython3",
   "version": "3.13.2"
  }
 },
 "nbformat": 4,
 "nbformat_minor": 2
}
