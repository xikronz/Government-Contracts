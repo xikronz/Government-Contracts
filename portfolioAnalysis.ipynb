{
 "cells": [
  {
   "cell_type": "code",
   "execution_count": 39,
   "metadata": {},
   "outputs": [],
   "source": [
    "import pandas as pd\n",
    "import seaborn as sns\n",
    "import matplotlib.pyplot as plt\n",
    "import concurrent.futures"
   ]
  },
  {
   "cell_type": "code",
   "execution_count": 19,
   "metadata": {},
   "outputs": [],
   "source": [
    "with open('R2 returns/pv/2023.txt', 'r') as file:\n",
    "    lines = file.readlines()\n",
    "\n",
    "portfolioValues = []\n",
    "for line in lines:\n",
    "    value = float(line.strip().split('--')[1])\n",
    "    portfolioValues.append(value)\n",
    "\n",
    "df = pd.DataFrame(portfolioValues)\n",
    "\n",
    "df.to_csv(\"R2 returns/trades/2023.csv\", index=False)"
   ]
  },
  {
   "cell_type": "code",
   "execution_count": 51,
   "metadata": {},
   "outputs": [
    {
     "name": "stdout",
     "output_type": "stream",
     "text": [
      "Saved plot: R2 returns/graphs/2016.png\n",
      "Saved plot: R2 returns/graphs/2017.png\n",
      "Saved plot: R2 returns/graphs/2018.png\n",
      "Saved plot: R2 returns/graphs/2019.png\n",
      "Saved plot: R2 returns/graphs/2023.png\n"
     ]
    }
   ],
   "source": [
    "filePaths = [\n",
    "    \"R2 returns/trades/2016.csv\",\n",
    "    \"R2 returns/trades/2017.csv\",\n",
    "    \"R2 returns/trades/2018.csv\",\n",
    "    \"R2 returns/trades/2019.csv\",\n",
    "    \"R2 returns/trades/2023.csv\"\n",
    "]\n",
    "\n",
    "def plotPortfolio(fp):\n",
    "    date = fp[18:22]\n",
    "    df = pd.read_csv(fp, header=None, names=[\"Portfolio Value\"])\n",
    "    \n",
    "    df[\"Trade Count\"] = range(1, len(df) + 1)\n",
    "    \n",
    "    df_even = df[df[\"Trade Count\"] % 2 == 0]\n",
    "\n",
    "    plt.figure(figsize=(10, 5))\n",
    "    sns.set_style(\"whitegrid\")\n",
    "    sns.lineplot(x=df_even[\"Trade Count\"], y=df_even[\"Portfolio Value\"], linestyle=\"-\", color=\"b\")\n",
    "    \n",
    "    plt.xlabel(\"Number of Trades\")\n",
    "    plt.ylabel(\"Value\")\n",
    "    plt.title(f\"GCP Performance Over {len(df)} Buy Trades in \\n{date}\")\n",
    "\n",
    "    file = f\"R2 returns/graphs/{date}.png\"\n",
    "    plt.savefig(file)\n",
    "    print(f\"Saved plot: {file}\")\n",
    "    plt.close()  \n",
    "\n",
    "for i in range (len(filePaths)):\n",
    "    plotPortfolio(filePaths[i])\n"
   ]
  }
 ],
 "metadata": {
  "kernelspec": {
   "display_name": "quant",
   "language": "python",
   "name": "python3"
  },
  "language_info": {
   "codemirror_mode": {
    "name": "ipython",
    "version": 3
   },
   "file_extension": ".py",
   "mimetype": "text/x-python",
   "name": "python",
   "nbconvert_exporter": "python",
   "pygments_lexer": "ipython3",
   "version": "3.13.0"
  }
 },
 "nbformat": 4,
 "nbformat_minor": 2
}
